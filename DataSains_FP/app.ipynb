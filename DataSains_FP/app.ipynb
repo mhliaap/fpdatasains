{
 "cells": [
  {
   "cell_type": "code",
   "execution_count": 4,
   "id": "e4137445",
   "metadata": {
    "scrolled": true
   },
   "outputs": [],
   "source": [
    "import streamlit as st\n",
    "import numpy as np\n",
    "import pickle\n",
    "\n",
    "# Load model dan scaler\n",
    "model = pickle.load(open(\"model_rf.pkl\", \"rb\"))\n",
    "scaler = pickle.load(open(\"scaler.pkl\", \"rb\"))\n",
    "\n",
    "st.title(\"Prediksi Penyakit Jantung\")\n",
    "\n",
    "# Input\n",
    "age = st.number_input(\"Usia\", 20, 100, 50)\n",
    "sex = st.selectbox(\"Jenis Kelamin\", [0, 1])\n",
    "cp = st.selectbox(\"Tipe Nyeri Dada (cp)\", [0,1,2,3])\n",
    "trestbps = st.number_input(\"Tekanan Darah Istirahat\", 80, 200, 120)\n",
    "chol = st.number_input(\"Kolesterol\", 100, 400, 200)\n",
    "fbs = st.selectbox(\"FBS > 120?\", [0,1])\n",
    "restecg = st.selectbox(\"Rest ECG\", [0,1,2])\n",
    "thalach = st.number_input(\"Detak Jantung Maks\", 70, 210, 150)\n",
    "exang = st.selectbox(\"Angina karena Olahraga\", [0,1])\n",
    "oldpeak = st.number_input(\"Oldpeak\", 0.0, 6.0, 1.0)\n",
    "slope = st.selectbox(\"Kemiringan ST\", [0,1,2])\n",
    "ca = st.selectbox(\"Jumlah Pembuluh Warna\", [0,1,2,3])\n",
    "thal = st.selectbox(\"Thal\", [0,1,2,3])\n",
    "\n",
    "# Prediksi\n",
    "if st.button(\"Prediksi\"):\n",
    "    data = np.array([[age, sex, cp, trestbps, chol, fbs, restecg, thalach,\n",
    "                      exang, oldpeak, slope, ca, thal]])\n",
    "    data_scaled = scaler.transform(data)\n",
    "    prediction = model.predict(data_scaled)\n",
    "    \n",
    "    if prediction[0] == 1:\n",
    "        st.error(\"Pasien berisiko penyakit jantung.\")\n",
    "    else:\n",
    "        st.success(\"Pasien tidak berisiko penyakit jantung.\")"
   ]
  },
  {
   "cell_type": "code",
   "execution_count": null,
   "id": "0a6a7935",
   "metadata": {},
   "outputs": [],
   "source": []
  }
 ],
 "metadata": {
  "kernelspec": {
   "display_name": "Python 3 (ipykernel)",
   "language": "python",
   "name": "python3"
  },
  "language_info": {
   "codemirror_mode": {
    "name": "ipython",
    "version": 3
   },
   "file_extension": ".py",
   "mimetype": "text/x-python",
   "name": "python",
   "nbconvert_exporter": "python",
   "pygments_lexer": "ipython3",
   "version": "3.11.7"
  }
 },
 "nbformat": 4,
 "nbformat_minor": 5
}
